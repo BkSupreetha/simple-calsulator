{
 "cells": [
  {
   "cell_type": "code",
   "execution_count": 11,
   "metadata": {},
   "outputs": [
    {
     "name": "stdout",
     "output_type": "stream",
     "text": [
      "Enter your equation: 67 % 5\n",
      "The remainder of 67 mod 5 is 2\n"
     ]
    }
   ],
   "source": [
    "def add(a,b):\n",
    "    addition = a+b\n",
    "    print(f\"The sum of {a} and {b} is {addition}\") #formatted strings\n",
    "\n",
    "def subtract(a,b):\n",
    "    subtraction = a-b\n",
    "    print(f\"The result of subtracting {b} from {a} is {subtraction}\")\n",
    "\n",
    "def multiply(a,b):\n",
    "    multiplication = a*b\n",
    "    print(f\"The multiplication of {a} and {b} is {multiplication}\")\n",
    "\n",
    "def division(a,b):\n",
    "    division = a/b\n",
    "    print(f\"The quotient of {a} divided by {b} is {division}\")\n",
    "\n",
    "def mod(a,b):\n",
    "    modulus = a%b\n",
    "    print(f\"The remainder of {a} mod {b} is {modulus}\")\n",
    "\n",
    "# accepting multiple inputs in a single\n",
    "number1,operator,number2 = map(str,input(\"Enter your equation: \").split()) # 8 / 9\n",
    "number1 = int(number1)\n",
    "number2 = int(number2)\n",
    "\n",
    "\n",
    "# shift+alt+down\n",
    "\n",
    "if operator == '+':\n",
    "    add(number1,number2)\n",
    "\n",
    "elif operator == '-':\n",
    "    subtract(number1,number2)\n",
    "    \n",
    "elif operator == '*':\n",
    "    multiply(number1,number2)\n",
    "    \n",
    "elif operator == '/':\n",
    "    division(number1,number2)\n",
    "    \n",
    "elif operator == '%':\n",
    "    mod(number1,number2)\n",
    "else:\n",
    "    print(\"Invalid Typo Error! Type something like - 8 / 4\")"
   ]
  },
  {
   "cell_type": "code",
   "execution_count": null,
   "metadata": {},
   "outputs": [],
   "source": []
  }
 ],
 "metadata": {
  "kernelspec": {
   "display_name": "Python 3",
   "language": "python",
   "name": "python3"
  },
  "language_info": {
   "codemirror_mode": {
    "name": "ipython",
    "version": 3
   },
   "file_extension": ".py",
   "mimetype": "text/x-python",
   "name": "python",
   "nbconvert_exporter": "python",
   "pygments_lexer": "ipython3",
   "version": "3.8.5"
  }
 },
 "nbformat": 4,
 "nbformat_minor": 4
}
